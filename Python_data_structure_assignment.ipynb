{
  "nbformat": 4,
  "nbformat_minor": 0,
  "metadata": {
    "colab": {
      "provenance": []
    },
    "kernelspec": {
      "name": "python3",
      "display_name": "Python 3"
    },
    "language_info": {
      "name": "python"
    }
  },
  "cells": [
    {
      "cell_type": "markdown",
      "source": [],
      "metadata": {
        "id": "pe1Osi_itPRD"
      }
    },
    {
      "cell_type": "markdown",
      "source": [
        "#Theoritical Questins"
      ],
      "metadata": {
        "id": "W87I4XEltzWg"
      }
    },
    {
      "cell_type": "code",
      "source": [],
      "metadata": {
        "id": "XmS_p5Lxt3Tu"
      },
      "execution_count": null,
      "outputs": []
    },
    {
      "cell_type": "markdown",
      "source": [
        "1. What are data structures, and why are they important?\n",
        "\n",
        "\n",
        "*   Data structure is a way to organising & storing data, so that it can be accessed & manipulated efficiently. They help to manage large amounts of data in a way that allows for quick search insertion, deletion, and updating.\n",
        "*   They're important because they enable efficient problem-solving and are the foundation of algorithms, making programs faster and more efficient.\n",
        "\n",
        "\n",
        "\n",
        "2. Explain the difference between mutable and immutable data types with examples.\n",
        "\n",
        "*   Mutable data types can be changed after they're created, while immutable data types cannot be changed once created.\n",
        "*   Mutable Data Types: list > my_list = [1, 2, 3] > We can do my_list[0] = 10\n",
        "\n",
        "*   Immutable Data Types:\n",
        "\n",
        "1.  tuple > my_tuple = (1, 2, 3) > We can't change my_tuple[0]\n",
        "2.  str > name = \"pwskills\" > We can't change name[0]\n",
        "\n",
        "\n",
        "\n",
        "3. What are the main differences between lists and tuples in Python?\n",
        "\n",
        "*   Lists: We create a list using square brackets []. Lists are mutable, which means we can modify a list's elements after creating it.\n",
        "\n",
        "*   Tuples: We create a tuple using parentheses (). Tuples are immutable, which means we cannot modify a tuple's elements after creating it.\n",
        "\n",
        "\n",
        "\n",
        "4. Describe how dictionaries store data?\n",
        "\n",
        "*   It is a data structure that stores data as key-value pairs.\n",
        "\n",
        "*   Keys are unique and immutable in nature.\n",
        "\n",
        "*   Dictionaries maintain the order of insertion, which means if we iterate over a dictionary, the items will be returned in the order they were inserted.\n",
        "\n",
        "\n",
        "5. Why might you use a set instead of a list in Python?\n",
        "\n",
        "*   A set does not contain any duplicate values, but a list can.\n",
        "*   In a scenario where we don't want any duplicate values, we can use a set.\n",
        "\n",
        "\n",
        "6. What is a string in Python, and how is it different from a list?\n",
        "\n",
        "*   A string is a sequence of characters used for representing and manipulating textual data.\n",
        "*   Strings are immutable, but lists are mutable. A string contains only characters, while a list can hold different kinds of data types.\n",
        "\n",
        "\n",
        "7. How do tuples ensure data integrity in Python?\n",
        "\n",
        "*   Tuples are immutable, which means their elements cannot be changed after they are created. This immutability is the key to how tuples ensure data integrity.\n",
        "\n",
        "\n",
        "8. What is a hash table, and how does it relate to dictionaries in Python?\n",
        "\n",
        "*   A hash table is a data structure that stores data using a key and computes an index using a hash function.\n",
        "*   In Python, dictionaries are implemented using hash tables to store key-value pairs efficiently.\n",
        "\n",
        "\n",
        "9. Can lists contain different data types in Python?\n",
        "\n",
        "*   Yes list can contain different data types.\n",
        "*   Example my_list = [1,2,3,\"pwskills\",True, 5.10,False,None]\n",
        "\n",
        "\n",
        "10. Explain why strings are immutable in Python?\n",
        "\n",
        "*   Strings are immutable in Python because once we create a string, we cannot modify its elements.\n",
        "*   Example: my_str = \"Abhilash\" → my_str[0] = \"K\" it will cause an error.\n",
        "\n",
        "\n",
        "\n",
        "11. What advantages do dictionaries offer over lists for certain tasks?\n",
        "\n",
        "*   Dictionaries allow us to store data in a key-value form, which is useful when we want to organize data meaningfully.\n",
        "*   Example: {\"name\": \"Abhilash\", \"course\": \"Data Analytics\", \"institution\": \"Pwskills\"}\n",
        "*   Lists only allow us to store data in a sequential manner.\n",
        "*   Example: [\"name\", \"Abhilash\", \"course\", \"Data Analytics\", \"institution\", \"Pwskills\"]\n",
        "\n",
        "\n",
        "12. Describe a scenario where using a tuple would be preferable over a list.\n",
        "\n",
        "*   In a scenario where we do not want to modify our elements, we can use a tuple data structure because tuples are immutable.\n",
        "*   Using a tuple helps: Prevent unintended modifications, Convey intent that the structure should remain constant, Improve performance slightly over lists (tuples are lighter).\n",
        "\n",
        "\n",
        "\n",
        "13. How do sets handle duplicate values in Python?\n",
        "\n",
        "*   A set does not allow duplicate values.\n",
        "*   Example: my_set = {1, 2, 2, 3, 4, 4, 5} It will omit all the duplicate values and give us something like {1, 2, 3, 4, 5}.\n",
        "\n",
        "\n",
        "\n",
        "14. How does the “in” keyword work differently for lists and dictionaries?\n",
        "\n",
        "*   In a list, the “in” keyword checks if a value exists as an element in the list.\n",
        "*   Example: 3 in [1, 2, 3, 4] -> True\n",
        "*   In a dictionary, the “in” keyword checks if a key exists in the dictionary.\n",
        "*   Example: 'name' in {'name': 'Abhilash', 'age':25} -> True\n",
        "\n",
        "\n",
        "15. Can you modify the elements of a tuple? Explain why or why not?\n",
        "\n",
        "*   No we can not modify the elements of a tuple, because tuples are an immutable data structure in Python & do not allow item assignments.\n",
        "*   _tup = (1,2,3,4) _tup[0] = 10 it will cause an error.\n",
        "\n",
        "\n",
        "\n",
        "16. What is a nested dictionary, and give an example of its use case?\n",
        "\n",
        "*   A nested dictionary means a dictionary inside another dictionary.\n",
        "*   Example: my_dict = { \"name\": \"Abhilash Lenka\", \"email\": \"abhilashlenka9658@gmail.com\", \"contact\": 1010010000, \"address\": { \"city\": \"Bhuaneswar, 751012\", \"dist\": \"khordha\", \"state\": \"Odisha\" }}\n",
        "*   Nested dictionaries are useful when we need to store hierarchical or complex data. For example, when representing a person's details where the address has its own subfields (city, district, state).\n",
        "\n",
        "\n",
        "\n",
        "17. Describe the time complexity of accessing elements in a dictionary.\n",
        "\n",
        "*   The time complexity of accessing an element in a dictionary is O(1) on average, meaning it takes constant time.\n",
        "*   This is because dictionaries in Python are implemented using hash tables, allowing for quick lookups by key.\n",
        "\n",
        "\n",
        "18.  In what situations are lists preferred over dictionaries?\n",
        "\n",
        "*   When order matters: Lists maintain the order of elements, which is useful when we need to preserve the sequence.\n",
        "*   When we need to store multiple values: Lists are ideal when we have a collection of items and we do not  need to associate them with unique keys.\n",
        "\n",
        "\n",
        "19. Why are dictionaries considered unordered, and how does that affect data retrieval?\n",
        "\n",
        "*   Dictionaries are considered unordered because the keys are hashed, and their order isn't guaranteed. This means the order of elements may change, but data can still be retrieved efficiently using the key.\n",
        "*   Since Python 3.7 or later, dictionaries maintain the insertion order, meaning the order in which items are added is maintained.\n",
        "\n",
        "\n",
        "20.  Explain the difference between a list and a dictionary in terms of data retrieval.\n",
        "\n",
        "*   List: Data is retrieved by index, which is an integer position in the sequence. The time complexity for retrieving an element is O(1) for direct access, but requires knowing the index.\n",
        "*   Dictionary: Data is retrieved by key, which can be any immutable type. The time complexity for retrieving a value is O(1) on average due to the hash-based implementation.\n",
        "\n",
        "\n",
        "\n",
        "\n",
        "\n",
        "\n",
        "\n",
        "\n",
        "\n",
        "\n",
        "\n",
        "\n",
        "\n",
        "\n",
        "\n",
        "\n",
        "\n",
        "\n",
        "\n",
        "\n",
        "\n",
        "\n",
        "\n",
        "\n",
        "\n",
        "\n",
        "\n",
        "\n",
        "\n",
        "\n",
        "\n",
        "\n",
        "\n",
        "\n",
        "\n",
        "\n",
        "\n",
        "\n",
        "\n",
        "\n",
        "\n",
        "\n",
        "\n",
        "\n",
        "\n",
        "\n",
        "\n",
        "\n",
        "\n",
        "\n"
      ],
      "metadata": {
        "id": "hd89gCf-t6LY"
      }
    },
    {
      "cell_type": "markdown",
      "source": [
        "#Practical Questions"
      ],
      "metadata": {
        "id": "3JBLnPVq6yyj"
      }
    },
    {
      "cell_type": "code",
      "source": [
        "# 1.Write a code to create a string with your name and print it.\n",
        "name = \"Abhilash Lenka\"\n",
        "print(name)"
      ],
      "metadata": {
        "colab": {
          "base_uri": "https://localhost:8080/"
        },
        "id": "LAIOgYDi64z6",
        "outputId": "f996ebd8-7c11-4a58-ba71-7804948ae481"
      },
      "execution_count": null,
      "outputs": [
        {
          "output_type": "stream",
          "name": "stdout",
          "text": [
            "Abhilash Lenka\n"
          ]
        }
      ]
    },
    {
      "cell_type": "code",
      "source": [
        "# 2.Write a code to find the length of the string \"Hello World\".\n",
        "text = \"Hello World\"\n",
        "print(len(text))"
      ],
      "metadata": {
        "colab": {
          "base_uri": "https://localhost:8080/"
        },
        "id": "5hfgUVqU7q4a",
        "outputId": "168810d5-cd0c-489b-b50e-955f7b354c60"
      },
      "execution_count": null,
      "outputs": [
        {
          "output_type": "stream",
          "name": "stdout",
          "text": [
            "11\n"
          ]
        }
      ]
    },
    {
      "cell_type": "code",
      "source": [
        "# 3.Write a code to slice the first 3 characters from the string \"Python Programming.\n",
        "text = \"Python Programming\"\n",
        "print(text[0:3])"
      ],
      "metadata": {
        "colab": {
          "base_uri": "https://localhost:8080/"
        },
        "id": "ZC7btwWn79Eg",
        "outputId": "d286b6de-f209-46a2-e9c0-d268d305e9f3"
      },
      "execution_count": null,
      "outputs": [
        {
          "output_type": "stream",
          "name": "stdout",
          "text": [
            "Pyt\n"
          ]
        }
      ]
    },
    {
      "cell_type": "code",
      "source": [
        "# 4.Write a code to convert the string \"hello\" to uppercase.\n",
        "text = \"hello\"\n",
        "print(text.upper())"
      ],
      "metadata": {
        "colab": {
          "base_uri": "https://localhost:8080/"
        },
        "id": "Q2Uk0Mgf8JEY",
        "outputId": "6abfdc5d-522f-412c-982d-3b761ccdafb3"
      },
      "execution_count": null,
      "outputs": [
        {
          "output_type": "stream",
          "name": "stdout",
          "text": [
            "HELLO\n"
          ]
        }
      ]
    },
    {
      "cell_type": "code",
      "source": [
        "# 5. Write a code to replace the word \"apple\" with \"orange\" in the string \"I like apple\"?\n",
        "text = \"I can drive Bus.\"\n",
        "print(text.replace(\"Bus\",\"Car\"))"
      ],
      "metadata": {
        "colab": {
          "base_uri": "https://localhost:8080/"
        },
        "id": "sVM49Gw68XQM",
        "outputId": "ce3ca6c7-35d8-4c6b-842d-ebd986249eba"
      },
      "execution_count": null,
      "outputs": [
        {
          "output_type": "stream",
          "name": "stdout",
          "text": [
            "I can drive Car.\n"
          ]
        }
      ]
    },
    {
      "cell_type": "code",
      "source": [
        "# 6. Write a code to create a list with numbers 1 to 5 and print it?\n",
        "my_list = [1,2,3,4,5]\n",
        "print(my_list)"
      ],
      "metadata": {
        "colab": {
          "base_uri": "https://localhost:8080/"
        },
        "id": "kxkcfF-k8oYU",
        "outputId": "d58988cf-c051-4d26-80c9-5e3a3cb09bbc"
      },
      "execution_count": null,
      "outputs": [
        {
          "output_type": "stream",
          "name": "stdout",
          "text": [
            "[1, 2, 3, 4, 5]\n"
          ]
        }
      ]
    },
    {
      "cell_type": "code",
      "source": [
        "# 7. Write a code to append the number 10 to the list [1, 2, 3, 4].\n",
        "my_list = [1,2,3,4]\n",
        "my_list.append(10)\n",
        "print(my_list)"
      ],
      "metadata": {
        "colab": {
          "base_uri": "https://localhost:8080/"
        },
        "id": "afYByh359BY5",
        "outputId": "7c78c934-0942-45d9-e13b-f3847bde2a17"
      },
      "execution_count": null,
      "outputs": [
        {
          "output_type": "stream",
          "name": "stdout",
          "text": [
            "[1, 2, 3, 4, 10]\n"
          ]
        }
      ]
    },
    {
      "cell_type": "code",
      "source": [
        "# 8. Write a code to remove the number 3 from the list [1, 2, 3, 4, 5]?\n",
        "my_list = [1,2,3,4,5]\n",
        "my_list.remove(3)\n",
        "print(my_list)"
      ],
      "metadata": {
        "colab": {
          "base_uri": "https://localhost:8080/"
        },
        "id": "S-eooa-W9QbE",
        "outputId": "7ada580f-883f-4826-85a5-2e0bb2a67eb2"
      },
      "execution_count": null,
      "outputs": [
        {
          "output_type": "stream",
          "name": "stdout",
          "text": [
            "[1, 2, 4, 5]\n"
          ]
        }
      ]
    },
    {
      "cell_type": "code",
      "source": [
        "# 9. Write a code to access the second element in the list ['a', 'b', 'c', 'd'].\n",
        "my_list = ['a', 'b', 'c', 'd']\n",
        "print(my_list[1])"
      ],
      "metadata": {
        "colab": {
          "base_uri": "https://localhost:8080/"
        },
        "id": "BNbQrB_Z9Ynx",
        "outputId": "fbd077ab-23c7-4c0e-9ae8-166ff18b5d2d"
      },
      "execution_count": null,
      "outputs": [
        {
          "output_type": "stream",
          "name": "stdout",
          "text": [
            "b\n"
          ]
        }
      ]
    },
    {
      "cell_type": "code",
      "source": [
        "# 10. Write a code to reverse the list [10, 20, 30, 40, 50].\n",
        "my_list = [10, 20, 30, 40, 50]\n",
        "my_list.reverse()\n",
        "print(my_list)"
      ],
      "metadata": {
        "colab": {
          "base_uri": "https://localhost:8080/"
        },
        "id": "oEQTkP5p9j4p",
        "outputId": "bb0e3bf8-3cf8-4d0e-ce2a-409dc6118a04"
      },
      "execution_count": null,
      "outputs": [
        {
          "output_type": "stream",
          "name": "stdout",
          "text": [
            "[50, 40, 30, 20, 10]\n"
          ]
        }
      ]
    },
    {
      "cell_type": "code",
      "source": [
        "# 11. Write a code to create a tuple with the elements 100, 200, 300 and print it.\n",
        "my_tup = (100,200,300)\n",
        "print(my_tup)"
      ],
      "metadata": {
        "colab": {
          "base_uri": "https://localhost:8080/"
        },
        "id": "nKJ53BKW9wd2",
        "outputId": "2df43f20-b888-46a2-e9a2-43fc919b1fec"
      },
      "execution_count": null,
      "outputs": [
        {
          "output_type": "stream",
          "name": "stdout",
          "text": [
            "(100, 200, 300)\n"
          ]
        }
      ]
    },
    {
      "cell_type": "code",
      "source": [
        "# 12.  Write a code to access the second-to-last element of the tuple ('red', 'green', 'blue', 'yellow').\n",
        "my_tup = ('red', 'green', 'blue', 'yellow')\n",
        "print(my_tup[-2])"
      ],
      "metadata": {
        "colab": {
          "base_uri": "https://localhost:8080/"
        },
        "id": "S5desZGD-CrS",
        "outputId": "b376903a-e994-4f39-c98a-6559263831a5"
      },
      "execution_count": null,
      "outputs": [
        {
          "output_type": "stream",
          "name": "stdout",
          "text": [
            "blue\n"
          ]
        }
      ]
    },
    {
      "cell_type": "code",
      "source": [
        "# 13. Write a code to find the minimum number in the tuple (10, 20, 5, 15).\n",
        "my_tup = (10, 20, 5, 15)\n",
        "print(min(my_tup))"
      ],
      "metadata": {
        "colab": {
          "base_uri": "https://localhost:8080/"
        },
        "id": "VpwRANZS-Lil",
        "outputId": "6ab3c8ee-5208-4b60-a7cd-59b35cd5a438"
      },
      "execution_count": null,
      "outputs": [
        {
          "output_type": "stream",
          "name": "stdout",
          "text": [
            "5\n"
          ]
        }
      ]
    },
    {
      "cell_type": "code",
      "source": [
        "# 14. Write a code to find the index of the element \"cat\" in the tuple ('dog', 'cat', 'rabbit').\n",
        "my_tup = ('dog', 'cat', 'rabbit')\n",
        "print(my_tup.index(\"cat\"))"
      ],
      "metadata": {
        "colab": {
          "base_uri": "https://localhost:8080/"
        },
        "id": "MO8GXd8R-afd",
        "outputId": "d329f16b-c116-414f-9cdc-24e13e99a2bf"
      },
      "execution_count": null,
      "outputs": [
        {
          "output_type": "stream",
          "name": "stdout",
          "text": [
            "1\n"
          ]
        }
      ]
    },
    {
      "cell_type": "code",
      "source": [
        "# 15. Write a code to create a tuple containing three different fruits and check if \"kiwi\" is in it.\n",
        "my_tup = (\"mango\", \"banana\", \"watermelon\")\n",
        "if \"kiwi\" in my_tup:\n",
        "  print(\"kiwi is in the tuple\")\n",
        "else:\n",
        "  print(\"kiwi is not in the tuple\")"
      ],
      "metadata": {
        "colab": {
          "base_uri": "https://localhost:8080/"
        },
        "id": "9IA2Tpoi-oBl",
        "outputId": "10bbfcad-11bc-4881-fdac-d5b51dcb4b8e"
      },
      "execution_count": null,
      "outputs": [
        {
          "output_type": "stream",
          "name": "stdout",
          "text": [
            "kiwi is not in the tuple\n"
          ]
        }
      ]
    },
    {
      "cell_type": "code",
      "source": [
        "# 16. Write a code to create a set with the elements 'a', 'b', 'c' and print it.\n",
        "my_set = {'A','W','R'}\n",
        "print(my_set)"
      ],
      "metadata": {
        "colab": {
          "base_uri": "https://localhost:8080/"
        },
        "id": "dChnTYUv_CuV",
        "outputId": "0b336b38-009e-4e4c-e1de-e86be473dd79"
      },
      "execution_count": null,
      "outputs": [
        {
          "output_type": "stream",
          "name": "stdout",
          "text": [
            "{'A', 'W', 'R'}\n"
          ]
        }
      ]
    },
    {
      "cell_type": "code",
      "source": [
        "# 17. Write a code to clear all elements from the set {1, 2, 3, 4, 5}.\n",
        "my_set = {1, 2, 3, 4, 5}\n",
        "my_set.clear()\n",
        "print(my_set)"
      ],
      "metadata": {
        "colab": {
          "base_uri": "https://localhost:8080/"
        },
        "id": "ra5Iovut_Vcw",
        "outputId": "2aaec380-1256-4f7a-ff70-b183b13b5a78"
      },
      "execution_count": null,
      "outputs": [
        {
          "output_type": "stream",
          "name": "stdout",
          "text": [
            "set()\n"
          ]
        }
      ]
    },
    {
      "cell_type": "code",
      "source": [
        "# 18.  Write a code to remove the element 4 from the set {1, 2, 3, 4}.\n",
        "my_set = {1,2,3,4}\n",
        "my_set.remove(4)\n",
        "print(my_set)"
      ],
      "metadata": {
        "colab": {
          "base_uri": "https://localhost:8080/"
        },
        "id": "S0DMYzDZAE83",
        "outputId": "c9a65ab1-b1cc-4801-8d8d-33102f5b6bfb"
      },
      "execution_count": null,
      "outputs": [
        {
          "output_type": "stream",
          "name": "stdout",
          "text": [
            "{1, 2, 3}\n"
          ]
        }
      ]
    },
    {
      "cell_type": "code",
      "source": [
        "# 19. Write a code to find the union of two sets {1, 2, 3} and {3, 4, 5}.\n",
        "_set1 = {1,2,3}\n",
        "_set2 = {3,4,5}\n",
        "# union of two set\n",
        "_set3 = _set1 | _set2\n",
        "print(_set3)"
      ],
      "metadata": {
        "colab": {
          "base_uri": "https://localhost:8080/"
        },
        "id": "tC-q1NpOAfXy",
        "outputId": "0efeb37e-cba1-44ce-8b8b-06d3422ccead"
      },
      "execution_count": null,
      "outputs": [
        {
          "output_type": "stream",
          "name": "stdout",
          "text": [
            "{1, 2, 3, 4, 5}\n"
          ]
        }
      ]
    },
    {
      "cell_type": "code",
      "source": [
        "# 20. Write a code to find the intersection of two sets {1, 2, 3} and {2, 3, 4}.\n",
        "_set1 = {1,2,3}\n",
        "_set2 = {2,3,4}\n",
        "# intersection of two set\n",
        "_set3 = _set1 & _set2\n",
        "print(_set3)"
      ],
      "metadata": {
        "colab": {
          "base_uri": "https://localhost:8080/"
        },
        "id": "NqpSs5a8Ajk0",
        "outputId": "dc50659f-01cc-4abd-80e4-bcbbe736d2d8"
      },
      "execution_count": null,
      "outputs": [
        {
          "output_type": "stream",
          "name": "stdout",
          "text": [
            "{2, 3}\n"
          ]
        }
      ]
    },
    {
      "cell_type": "code",
      "source": [
        "# 21. Write a code to create a dictionary with the keys \"name\", \"age\", and \"city\", and print it.\n",
        "my_dict = {\"name\": \"Abhilash\", \"age\": 25, \"city\": \"Bhubaneswar\"}\n",
        "print(my_dict)"
      ],
      "metadata": {
        "colab": {
          "base_uri": "https://localhost:8080/"
        },
        "id": "H0JT-mVMAx_v",
        "outputId": "3d5409e0-05bc-4ace-b5a1-fc481d427abc"
      },
      "execution_count": null,
      "outputs": [
        {
          "output_type": "stream",
          "name": "stdout",
          "text": [
            "{'name': 'Abhilash', 'age': 25, 'city': 'Bhubaneswar'}\n"
          ]
        }
      ]
    },
    {
      "cell_type": "code",
      "source": [
        "# 22. Write a code to add a new key-value pair \"country\": \"USA\" to the dictionary {'name': 'John', 'age': 25}.\n",
        "my_dict = {'name': 'John', 'age': 25}\n",
        "my_dict[\"country\"] = \"USA\"\n",
        "print(my_dict)"
      ],
      "metadata": {
        "colab": {
          "base_uri": "https://localhost:8080/"
        },
        "id": "k3e0QnDFBDHE",
        "outputId": "f3069f54-317e-4702-f1c5-0a09b941b7dd"
      },
      "execution_count": null,
      "outputs": [
        {
          "output_type": "stream",
          "name": "stdout",
          "text": [
            "{'name': 'John', 'age': 25, 'country': 'USA'}\n"
          ]
        }
      ]
    },
    {
      "cell_type": "code",
      "source": [
        "# 23.  Write a code to access the value associated with the key \"name\" in the dictionary {'name': 'Alice', 'age': 30}.\n",
        "my_dict = {'name': 'Alice', 'age': 30}\n",
        "print(my_dict['name'])"
      ],
      "metadata": {
        "colab": {
          "base_uri": "https://localhost:8080/"
        },
        "id": "iRtr32TPBOGe",
        "outputId": "47934d72-baf8-4177-9adc-7eca7c4a5f50"
      },
      "execution_count": null,
      "outputs": [
        {
          "output_type": "stream",
          "name": "stdout",
          "text": [
            "Alice\n"
          ]
        }
      ]
    },
    {
      "cell_type": "code",
      "source": [
        "# 24. Write a code to remove the key \"age\" from the dictionary {'name': 'Bob', 'age': 22, 'city': 'New York'}.\n",
        "my_dict = {'name': 'Bob', 'age': 22, 'city': 'New York'}\n",
        "del my_dict['age']\n",
        "print(my_dict)"
      ],
      "metadata": {
        "colab": {
          "base_uri": "https://localhost:8080/"
        },
        "id": "Xa_RTUArBdrV",
        "outputId": "08c8c7d0-635d-46fc-a2e7-dac7db7288d8"
      },
      "execution_count": null,
      "outputs": [
        {
          "output_type": "stream",
          "name": "stdout",
          "text": [
            "{'name': 'Bob', 'city': 'New York'}\n"
          ]
        }
      ]
    },
    {
      "cell_type": "code",
      "source": [
        "# 25. Write a code to check if the key \"city\" exists in the dictionary {'name': 'Alice', 'city': 'Paris'}.\n",
        "my_dict = {'name': 'Alice', 'city': 'Paris'}\n",
        "if 'city' in my_dict:\n",
        "  print(\"city is in the dictionary\")\n",
        "else:\n",
        "  print(\"city is not in the dictionary\")"
      ],
      "metadata": {
        "colab": {
          "base_uri": "https://localhost:8080/"
        },
        "id": "YIevoNoDBo8N",
        "outputId": "729c6909-5144-4a5a-92de-c8b787d19292"
      },
      "execution_count": null,
      "outputs": [
        {
          "output_type": "stream",
          "name": "stdout",
          "text": [
            "city is in the dictionary\n"
          ]
        }
      ]
    },
    {
      "cell_type": "code",
      "source": [
        "# 26. Write a code to create a list, a tuple, and a dictionary, and print them all.\n",
        "my_list = [1,2,3,4]\n",
        "my_tup = (1,2,3,4)\n",
        "my_dict = {\"name\": \"Abhilash\", \"age\": 25, \"city\": \"Bhubaneswar\"}\n",
        "print(my_list)\n",
        "print(my_tup)\n",
        "print(my_dict)"
      ],
      "metadata": {
        "colab": {
          "base_uri": "https://localhost:8080/"
        },
        "id": "jgvWLfjbBxEn",
        "outputId": "ce45a3a2-dceb-48a7-9294-013bd4b2adb5"
      },
      "execution_count": null,
      "outputs": [
        {
          "output_type": "stream",
          "name": "stdout",
          "text": [
            "[1, 2, 3, 4]\n",
            "(1, 2, 3, 4)\n",
            "{'name': 'Abhilash', 'age': 25, 'city': 'Bhubaneswar'}\n"
          ]
        }
      ]
    },
    {
      "cell_type": "code",
      "source": [
        "# 27. Write a code to create a list of 5 random numbers between 1 and 100, sort it in ascending order, and print the result.(replaced)\n",
        "import random\n",
        "my_list = [random.randint(1,100) for i in range(5)]\n",
        "my_list.sort()\n",
        "print(my_list)"
      ],
      "metadata": {
        "colab": {
          "base_uri": "https://localhost:8080/"
        },
        "id": "UMw4XogDCDYd",
        "outputId": "3231e317-2b03-45b4-c2cb-e4b1b07080f5"
      },
      "execution_count": null,
      "outputs": [
        {
          "output_type": "stream",
          "name": "stdout",
          "text": [
            "[40, 69, 86, 91, 95]\n"
          ]
        }
      ]
    },
    {
      "cell_type": "code",
      "source": [
        "# 28. Write a code to create a list with strings and print the element at the third index.\n",
        "my_list = [\"cycle\", \"bike\", \"car\", \"bus\", \"aeroplane\"]\n",
        "print(my_list[3])"
      ],
      "metadata": {
        "colab": {
          "base_uri": "https://localhost:8080/"
        },
        "id": "0G8LGdfhCe33",
        "outputId": "a744aee5-4abb-4282-ee05-2714bf67ef48"
      },
      "execution_count": null,
      "outputs": [
        {
          "output_type": "stream",
          "name": "stdout",
          "text": [
            "bus\n"
          ]
        }
      ]
    },
    {
      "cell_type": "code",
      "source": [
        "# 29. Write a code to combine two dictionaries into one and print the result.\n",
        "user_details = {\"name\":\"Abhilash Lenka\",\"email\":\"abhilashlenka9658@gmail.com\",\"contact\":1010010000}\n",
        "course_details = {\"course\":\"Data Analytics\",\"institution\":\"Pwskills\",\"duration\":\"9 Months\"}\n",
        "user_details.update(course_details)\n",
        "print(user_details)"
      ],
      "metadata": {
        "colab": {
          "base_uri": "https://localhost:8080/"
        },
        "id": "SpWK16byCzPK",
        "outputId": "b274aa21-bf0b-4ab8-9ca9-b76c605d2766"
      },
      "execution_count": null,
      "outputs": [
        {
          "output_type": "stream",
          "name": "stdout",
          "text": [
            "{'name': 'Abhilash Lenka', 'email': 'abhilashlenka9658@gmail.com', 'contact': 1010010000, 'course': 'Data Analytics', 'institution': 'Pwskills', 'duration': '9 Months'}\n"
          ]
        }
      ]
    },
    {
      "cell_type": "code",
      "source": [
        "# 30. Write a code to convert a list of strings into a set.\n",
        "_list = [\"cycle\",\"bike\",\"car\",\"bus\",\"train\",\"aeroplane\",\"space ship\"]\n",
        "_set = set(_list)\n",
        "print(_set)"
      ],
      "metadata": {
        "colab": {
          "base_uri": "https://localhost:8080/"
        },
        "id": "ctjZFVW-DVBn",
        "outputId": "0c98d3c7-e921-4c01-f344-9636c849c047"
      },
      "execution_count": null,
      "outputs": [
        {
          "output_type": "stream",
          "name": "stdout",
          "text": [
            "{'bike', 'train', 'bus', 'aeroplane', 'cycle', 'space ship', 'car'}\n"
          ]
        }
      ]
    },
    {
      "cell_type": "code",
      "source": [],
      "metadata": {
        "id": "yEu5syGaDy07"
      },
      "execution_count": null,
      "outputs": []
    }
  ]
}