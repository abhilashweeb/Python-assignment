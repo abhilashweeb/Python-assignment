{
  "nbformat": 4,
  "nbformat_minor": 0,
  "metadata": {
    "colab": {
      "provenance": []
    },
    "kernelspec": {
      "name": "python3",
      "display_name": "Python 3"
    },
    "language_info": {
      "name": "python"
    }
  },
  "cells": [
    {
      "cell_type": "code",
      "execution_count": null,
      "metadata": {
        "id": "pnYImHyHb3C7"
      },
      "outputs": [],
      "source": []
    },
    {
      "cell_type": "markdown",
      "source": [
        "#Theoritical question"
      ],
      "metadata": {
        "id": "6_Y7r7qKb6J9"
      }
    },
    {
      "cell_type": "code",
      "source": [],
      "metadata": {
        "id": "Syso2PwgceDs"
      },
      "execution_count": null,
      "outputs": []
    },
    {
      "cell_type": "markdown",
      "source": [
        "1. What is Object-Oriented Programming (OOP)?\n",
        "\n",
        "\n",
        "*   Object-Oriented Programming (OOP) is a programming style that organizes code using objects, which are instances of classes. It helps in structuring programs so they are easy to manage and reuse.\n",
        "\n",
        "\n",
        "2. What is a class in OOP?\n",
        "\n",
        "\n",
        "*   A class in OOP is a blueprint or template for creating an object. It defines the properties and methods that will be present in the objects created from it.\n",
        "\n",
        "\n",
        "\n"
      ],
      "metadata": {
        "id": "JL-UBM3econ_"
      }
    },
    {
      "cell_type": "code",
      "source": [
        "# Example of a class\n",
        "class Student: #this is a class Student\n",
        "  def __init__(self,roll_number,name):\n",
        "    self.roll_number = roll_number\n",
        "    self.name = name\n",
        "  def display_details(self): #this is a method of the class\n",
        "    print(f\"Roll Number: {self.roll_number}\")\n",
        "    print(f\"Name: {self.name}\")"
      ],
      "metadata": {
        "id": "fqy-O2NFjygp"
      },
      "execution_count": null,
      "outputs": []
    },
    {
      "cell_type": "markdown",
      "source": [
        "3. What is an object in OOP?\n",
        "\n",
        "\n",
        "*   An object in OOP is an instance of a class. It represents a real-world entity that has state (data/properties) and behavior (methods/functions)."
      ],
      "metadata": {
        "id": "Y5aDu_-okATI"
      }
    },
    {
      "cell_type": "code",
      "source": [
        "# Creating an object/instance from the above class Student\n",
        "student1 = Student(50,\"Abhilash Lenka\") #This is an object/instance of the class Student\n",
        "student2 = Student(70,\"Debasis Sahu\")#This is an object/instance of the class Student\n",
        "student1.display_details() #accessing the class method display_details\n",
        "student2.display_details()"
      ],
      "metadata": {
        "colab": {
          "base_uri": "https://localhost:8080/"
        },
        "id": "UJDPOl7ikbS6",
        "outputId": "450cafef-fe59-41b7-b001-015d0f0b1d6f"
      },
      "execution_count": null,
      "outputs": [
        {
          "output_type": "stream",
          "name": "stdout",
          "text": [
            "Roll Number: 50\n",
            "Name: Abhilash Lenka\n",
            "Roll Number: 70\n",
            "Name: Debasis Sahu\n"
          ]
        }
      ]
    },
    {
      "cell_type": "markdown",
      "source": [
        "4. What is the difference between abstraction and encapsulation?\n",
        "\n",
        "\n",
        "*  *Abstraction*: Abstraction is the concept of hiding complex implementation details and showing only the necessary features of an object. It helps reduce complexity by focusing on what an object does rather than how it does it.\n",
        "*  *Encapsulation*: Encapsulation is the technique of bundling data (variables) and methods (functions) that operate on that data into a single unit, usually a class. It also involves restricting direct access to some components using access modifiers like private, ensuring data security and preventing unintended interference.\n",
        "\n",
        "\n",
        "5. What are dunder methods in Python?\n",
        "\n",
        "*   dunder: d stands for duble and under stands for double underscore(__).\n",
        "*   Dunder/Magic/Special methods in Python are special built in methods with names that start and end with double underscores, like init, str, or repr. They allow us to define how objects of a class behave with built in Python operations such as creating objects, printing them, or using operators like +.\n",
        "\n",
        "\n",
        "6.  Explain the concept of inheritance in OOP.\n",
        "\n",
        "*   Inheritance in OOP is a way to create a new class called a child or subclass based on an existing class called a parent or superclass. The child class automatically gets the properties and methods of the parent class, allowing code reuse and making it easier to create and maintain related classes.\n",
        "\n",
        "\n",
        "\n",
        "7. What is polymorphism in OOP?\n",
        "\n",
        "*   Poly means many and morphism means form of something or state of something.\n",
        "*   Polymorphism allows objects of different classes to be treated as objects of a common superclass, especially when they share methods with the same name but different implementations.\n",
        "\n",
        "\n",
        "8. How is encapsulation achieved in Python?\n",
        "\n",
        "*   Encapsulation in Python is achieved by restricting access to an object’s internal data and controlling how that data is accessed or modified. This is done by;\n",
        "\n",
        "     * Prefixing an attribute or method with a single underscore _(protected).\n",
        "     * Prefixing an attribute or method with a double underscore __(private).\n",
        "\n",
        "\n",
        "\n",
        "\n",
        "\n",
        "\n"
      ],
      "metadata": {
        "id": "0xsTHnAiktU4"
      }
    },
    {
      "cell_type": "code",
      "source": [
        "# Example of encapsulation\n",
        "class BankAccount:\n",
        "    def __init__(self, balance,pin):\n",
        "        self.__balance = balance  # This is Private attribute\n",
        "        self._pin = pin #This is Protected attribute"
      ],
      "metadata": {
        "id": "I4ES0NcVm8fX"
      },
      "execution_count": null,
      "outputs": []
    },
    {
      "cell_type": "markdown",
      "source": [
        "9. What is a constructor in Python?\n",
        "\n",
        "*   A constructor in Python is a special method named init that is automatically called when we create a new object from a class. It’s used to initialize the object’s attributes with values.\n",
        "\n",
        "\n",
        "10. What are class and static methods in Python?\n",
        "\n",
        "*   Class methods use the @classmethod decorator and take the class (cls) as the first argument, allowing them to access or modify class-level data. Static methods use the @staticmethod decorator, don’t take self or cls, and act like regular functions grouped inside a class for organization.\n",
        "\n",
        "\n",
        "11. What is method overloading in Python?\n",
        "\n",
        "*   Method overloading means having multiple methods with the same name but different parameters in the same class. However, Python doesn’t support true method overloading like some other languages. Instead, we achieve similar behavior by using default arguments or checking argument types within a single method.\n",
        "\n",
        "\n",
        "12. What is method overriding in OOP?\n",
        "\n",
        "*   Method overriding in OOP happens when a child class provides its own version of a method that is already defined in its parent class. This lets us change or extend the behavior of that method for the child class while keeping the same method name. It’s useful for customizing functionality in subclasses.\n",
        "\n",
        "\n",
        "\n",
        "13. What is a property decorator in Python?\n",
        "\n",
        "*   The @property decorator in Python allows us to define a method that behaves like an attribute. It lets us access a method like a regular attribute, enabling controlled access to private variables without needing explicit getter methods. It helps keep code clean and readable.\n",
        "\n",
        "\n",
        "14. Why is polymorphism important in OOP?\n",
        "\n",
        "*   Polymorphism is important in OOP because it allows us to use a single interface to work with different types of objects. This makes our code more flexible, reusable, and easier to maintain, as we can write general code that works with many object types without worrying about their specific implementations.\n",
        "\n",
        "\n",
        "15. What is an abstract class in Python?\n",
        "\n",
        "*   An abstract class in Python is a class that cannot be instantiated on its own and is meant to be a blueprint for other classes. It can include one or more abstract methods declared but not implemented that subclasses must override. We use abstract classes to define a common interface for related classes while forcing them to provide specific implementations.\n",
        "\n",
        "\n",
        "\n",
        "16. What are the advantages of OOP?\n",
        "\n",
        "*   Advantages of OOP are;\n",
        "      * Modularity: The code is organised into classes, making it easier to manage and understand.\n",
        "      * Reusability: We can reuse existing classes through inheritance.\n",
        "      * Scalability: It’s easier to build and maintain large programs by breaking them into objects.\n",
        "      * Maintainability: Changes in one part of the code have minimal impact on others due to encapsulation.\n",
        "      * Flexibility: Polymorphism allows us to use the same interface for different data types, making code more adaptable.\n",
        "\n",
        "\n",
        "17. What is the difference between a class variable and an instance variable?\n",
        "\n",
        "*   A class variable is shared by all instances of a class—there’s only one copy, and changes affect every object. An instance variable is unique to each object, storing data specific to that particular instance.\n",
        "*   class variables belong to the class, instance variables belong to the individual objects.\n",
        "\n",
        "\n",
        "18. What is multiple inheritance in Python?\n",
        "\n",
        "*   Multiple inheritance in Python means a class can inherit from more than one parent class. This allows the child class to combine and reuse features from multiple classes in a single class.\n",
        "\n",
        "\n",
        "19.  Explain the purpose of ‘’__str__’ and ‘__repr__’ ‘ methods in Python.\n",
        "\n",
        "*   The str method in Python defines the human-readable string representation of an object, used by print() and str().\n",
        "*   The repr method provides an official string representation meant for developers, useful for debugging and ideally showing how to recreate the object.\n",
        "\n",
        "\n",
        "\n",
        "20. What is the significance of the ‘super()’ function in Python?\n",
        "\n",
        "* The super() function in Python is used to call a method from a parent class inside a child class. It helps us reuse and extend the functionality of the parent without explicitly naming it, making code easier to maintain and supporting multiple inheritance.\n",
        "\n",
        "\n",
        "\n",
        "21. What is the significance of the __del__ method in Python?\n",
        "\n",
        "* The del method in Python is a destructor that is called when an object is about to be destroyed or garbage collected. It allows us to clean up resources, like closing files or releasing memory, before the object is removed from memory.\n",
        "\n",
        "\n",
        "22. What is the difference between @staticmethod and @classmethod in Python?\n",
        "\n",
        "* A static method doesn’t take self or cls as the first argument and can’t access instance or class data. It behaves like a regular function inside the class.\n",
        "* A class method takes cls (the class) as the first argument and can access or modify class level data.\n",
        "\n",
        "\n",
        "23. How does polymorphism work in Python with inheritance?\n",
        "\n",
        "* Polymorphism in Python with inheritance works by allowing a child class to override a method defined in its parent class. When we call that method on an object, Python uses the child class’s version if it exists, even if the object is referenced as the parent type. This lets us write flexible code that can work with different object types through a common interface.\n",
        "\n",
        "\n",
        "24. What is method chaining in Python OOP?\n",
        "\n",
        "* Method chaining in Python OOP is a technique where we call multiple methods on the same object in a single line, one after another. For this to work, each method returns the object itself (self), allowing the next method to be called immediately.\n",
        "\n",
        "25. What is the purpose of the __call__ method in Python?\n",
        "\n",
        "* The call method in Python lets an instance of a class be called like a function. When we use parentheses () on an object, Python runs its call method, allowing the object to behave like a callable.\n",
        "\n",
        "\n",
        "\n",
        "\n",
        "\n",
        "\n",
        "\n",
        "\n",
        "\n",
        "\n",
        "\n",
        "\n",
        "\n",
        "\n",
        "\n",
        "\n",
        "\n",
        "\n",
        "\n",
        "\n",
        "\n",
        "\n"
      ],
      "metadata": {
        "id": "HTFGCVBunCct"
      }
    },
    {
      "cell_type": "markdown",
      "source": [
        "#Practical Question"
      ],
      "metadata": {
        "id": "hUTyD9fRrFI-"
      }
    },
    {
      "cell_type": "code",
      "source": [
        "#1.Create a parent class Animal with a method speak() that prints a generic message. Create a child class Dog that overrides the speak() method to print \"Bark!\".\n",
        "class Animal:\n",
        "    def speak(self):\n",
        "        print(\"Generic animal sound\")\n",
        "\n",
        "class Dog(Animal):\n",
        "    def speak(self):\n",
        "        print(\"Bark!\")\n",
        "\n",
        "animal = Animal()\n",
        "animal.speak()\n",
        "\n",
        "german_shepherd = Dog()\n",
        "german_shepherd.speak()"
      ],
      "metadata": {
        "colab": {
          "base_uri": "https://localhost:8080/"
        },
        "id": "y197xTpjrJso",
        "outputId": "6db8fc8b-4e8e-451b-8f79-ba8d5e52e318"
      },
      "execution_count": null,
      "outputs": [
        {
          "output_type": "stream",
          "name": "stdout",
          "text": [
            "Generic animal sound\n",
            "Bark!\n"
          ]
        }
      ]
    },
    {
      "cell_type": "code",
      "source": [
        "# 2. Write a program to create an abstract class Shape with a method area(). Derive classes Circle and Rectangle from it and implement the area() method in both.\n",
        "from abc import ABC, abstractmethod\n",
        "\n",
        "class Shape(ABC):\n",
        "    @abstractmethod\n",
        "    def area(self):\n",
        "        pass\n",
        "\n",
        "class Circle(Shape):\n",
        "    def __init__(self, radius):\n",
        "        self.radius = radius\n",
        "\n",
        "    def area(self):\n",
        "        return 3.14 * (self.radius ** 2)\n",
        "\n",
        "class Rectangle(Shape):\n",
        "    def __init__(self, length, width):\n",
        "        self.length = length\n",
        "        self.width = width\n",
        "\n",
        "    def area(self):\n",
        "        return self.length * self.width\n",
        "\n",
        "circle = Circle(6)\n",
        "rectangle = Rectangle(4, 6)\n",
        "\n",
        "print(f\"Area of circle: {circle.area():.2f}\")\n",
        "print(f\"Area of rectangle: {rectangle.area()}\")"
      ],
      "metadata": {
        "colab": {
          "base_uri": "https://localhost:8080/"
        },
        "id": "dVM_b_ieragZ",
        "outputId": "920ea2e6-4582-4791-b22a-fe48b05151d1"
      },
      "execution_count": null,
      "outputs": [
        {
          "output_type": "stream",
          "name": "stdout",
          "text": [
            "Area of circle: 113.04\n",
            "Area of rectangle: 24\n"
          ]
        }
      ]
    },
    {
      "cell_type": "code",
      "source": [
        "# 3.Implement a multi-level inheritance scenario where a class Vehicle has an attribute type. Derive a class Car and further derive a class Electric Car that adds a battery attribute.\n",
        "class Vehicle:\n",
        "  def __init__(self,type):\n",
        "    self.vehicle_type = type\n",
        "\n",
        "  def display_info(self):\n",
        "    print(f\"Vehicle Type: {self.vehicle_type}\")\n",
        "\n",
        "\n",
        "class Car(Vehicle):\n",
        "   def __init__(self, vehicle_type, company):\n",
        "        super().__init__(vehicle_type)\n",
        "        self.car_company = company\n",
        "\n",
        "   def display_info(self):\n",
        "        super().display_info()\n",
        "        print(f\"Company Name: {self.car_company}\")\n",
        "\n",
        "class ElectricCar(Car):\n",
        "    def __init__(self, vehicle_type, car_company, battery_capacity):\n",
        "        super().__init__(vehicle_type, car_company)\n",
        "        self.battery_capacity = battery_capacity\n",
        "\n",
        "    def display_info(self):\n",
        "        super().display_info()\n",
        "        print(f\"Battery Capacity: {self.battery_capacity} kWh\")\n",
        "\n",
        "car_obj = ElectricCar(\"Car\", \"BMW\", 102)\n",
        "car_obj.display_info()"
      ],
      "metadata": {
        "colab": {
          "base_uri": "https://localhost:8080/"
        },
        "id": "FRlxcKzlr5fl",
        "outputId": "8fe3f0c8-b0f9-4ebd-d555-11d6bafb0a75"
      },
      "execution_count": null,
      "outputs": [
        {
          "output_type": "stream",
          "name": "stdout",
          "text": [
            "Vehicle Type: Car\n",
            "Company Name: BMW\n",
            "Battery Capacity: 102 kWh\n"
          ]
        }
      ]
    },
    {
      "cell_type": "code",
      "source": [
        "#4. Demonstrate polymorphism by creating a base class Bird with a method fly(). Create two derived classes Sparrow and Penguin that override the fly() method.\n",
        "class Bird:\n",
        "  def fly(self):\n",
        "    print(\"Bird is flying high...\")\n",
        "\n",
        "class Eagle(Bird):\n",
        "  def fly(self):\n",
        "    print(\"Eagle is flying high...\")\n",
        "\n",
        "class Penguin(Bird):\n",
        "  def fly(self):\n",
        "    print(\"Penguin🐧: Sorry I can't fly\")\n",
        "\n",
        "bird1 = Eagle()\n",
        "bird2 = Penguin()\n",
        "\n",
        "birds = [bird1,bird2]\n",
        "\n",
        "for bird in birds:\n",
        "  bird.fly() #Here the same fly method taking different form and also override the Bird fly method.\n"
      ],
      "metadata": {
        "colab": {
          "base_uri": "https://localhost:8080/"
        },
        "id": "1_b4uOVxsUOD",
        "outputId": "b7d11a18-c7c0-4774-bfce-934ff376b0a2"
      },
      "execution_count": null,
      "outputs": [
        {
          "output_type": "stream",
          "name": "stdout",
          "text": [
            "Eagle is flying high...\n",
            "Penguin🐧: Sorry I can't fly\n"
          ]
        }
      ]
    },
    {
      "cell_type": "code",
      "source": [
        "#5.Write a program to demonstrate encapsulation by creating a class Bank Account with private attributes balance and methods to deposit, withdraw, and check balance.\n",
        "class BankAccount:\n",
        "  def __init__(self,balance):\n",
        "    self.__balance = balance\n",
        "\n",
        "  def check_balance(self):\n",
        "    return f\"Current balance: {self.__balance}\"\n",
        "\n",
        "  def deposit(self,amount):\n",
        "    self.__balance += amount\n",
        "    return f\"Updated balance: {self.__balance}\"\n",
        "\n",
        "  def withdraw(self,amount):\n",
        "    if amount <= self.__balance:\n",
        "      self.__balance -= amount\n",
        "      return f\"Updated balance: {self.__balance}\"\n",
        "    else:\n",
        "      return \"Insufficient fund\"\n",
        "\n",
        "customer1 = BankAccount(100000000)\n",
        "print(customer1.check_balance())\n",
        "print(customer1.deposit(200000))\n",
        "print(customer1.withdraw(50000))"
      ],
      "metadata": {
        "colab": {
          "base_uri": "https://localhost:8080/"
        },
        "id": "E97h_oqIstBW",
        "outputId": "f0d4e173-56be-4e26-d8b1-1ab47723ab6a"
      },
      "execution_count": null,
      "outputs": [
        {
          "output_type": "stream",
          "name": "stdout",
          "text": [
            "Current balance: 100000000\n",
            "Updated balance: 100200000\n",
            "Updated balance: 100150000\n"
          ]
        }
      ]
    },
    {
      "cell_type": "code",
      "source": [
        "# 6.Demonstrate runtime polymorphism using a method play() in a base class Instrument. Derive classes Guitar and Piano that implement their own version of play().\n",
        "class Instrument:\n",
        "    def play(self):\n",
        "        print(\"Playing an instrument.\")\n",
        "\n",
        "\n",
        "class Guitar(Instrument):\n",
        "    def play(self):\n",
        "        print(\"Strumming the guitar.\")\n",
        "\n",
        "\n",
        "class Piano(Instrument):\n",
        "    def play(self):\n",
        "        print(\"Playing the piano keys.\")\n",
        "\n",
        "\n",
        "def start_playing(instrument):\n",
        "    instrument.play()\n",
        "\n",
        "\n",
        "instruments = [Guitar(), Piano()]\n",
        "\n",
        "for inst in instruments:\n",
        "    start_playing(inst)"
      ],
      "metadata": {
        "colab": {
          "base_uri": "https://localhost:8080/"
        },
        "id": "MeiWLdEztJ6O",
        "outputId": "e47f9ada-ecad-4904-e27d-89abc2bc6758"
      },
      "execution_count": null,
      "outputs": [
        {
          "output_type": "stream",
          "name": "stdout",
          "text": [
            "Strumming the guitar.\n",
            "Playing the piano keys.\n"
          ]
        }
      ]
    },
    {
      "cell_type": "code",
      "source": [
        "#7.Create a class MathOperations with a class method add_numbers() to add two numbers and a static method subtract_numbers() to subtract two numbers.\n",
        "class MathOperations:\n",
        "  @classmethod\n",
        "  def add_numbers(cls,x,y):\n",
        "    return x + y\n",
        "\n",
        "  @staticmethod\n",
        "  def subtract_numbers(x,y):\n",
        "    return x - y\n",
        "\n",
        "print(MathOperations.add_numbers(25,50))\n",
        "print(MathOperations.subtract_numbers(25,50))"
      ],
      "metadata": {
        "colab": {
          "base_uri": "https://localhost:8080/"
        },
        "id": "PB0OWKsiteDG",
        "outputId": "aeb9f1b6-73af-4f53-f387-ee30f09a9bf5"
      },
      "execution_count": null,
      "outputs": [
        {
          "output_type": "stream",
          "name": "stdout",
          "text": [
            "75\n",
            "-25\n"
          ]
        }
      ]
    },
    {
      "cell_type": "code",
      "source": [
        "#8.Implement a class Person with a class method to count the total number of persons created.\n",
        "class Person:\n",
        "  count = 0\n",
        "  def __init__(self,name,age):\n",
        "    self.name = name\n",
        "    self.age = age\n",
        "    Person.count += 1\n",
        "\n",
        "  @classmethod\n",
        "  def total_count(cls):\n",
        "    return cls.count\n",
        "\n",
        "\n",
        "p1 = Person(\"Abhilash\",25)\n",
        "p2 = Person(\"Ritik\",24)\n",
        "p3 = Person(\"Debasish\",65)\n",
        "\n",
        "print(f\"Total number of persons created: {Person.total_count()}\")"
      ],
      "metadata": {
        "colab": {
          "base_uri": "https://localhost:8080/"
        },
        "id": "zBkrrIFrtu3J",
        "outputId": "5bda1970-1d1b-4904-bb17-71d290aa7d99"
      },
      "execution_count": null,
      "outputs": [
        {
          "output_type": "stream",
          "name": "stdout",
          "text": [
            "Total number of persons created: 3\n"
          ]
        }
      ]
    },
    {
      "cell_type": "code",
      "source": [
        "#9.Write a class Fraction with attributes numerator and denominator. Override the str method to display the fraction as \"numerator/denominator\".\n",
        "class Fraction:\n",
        "    def __init__(self, numerator, denominator):\n",
        "        if denominator == 0:\n",
        "            raise ValueError(\"Denominator cannot be zero.\")\n",
        "        self.numerator = numerator\n",
        "        self.denominator = denominator\n",
        "\n",
        "    def __str__(self):\n",
        "        return f\"{self.numerator}/{self.denominator}\"\n",
        "\n",
        "\n",
        "f1 = Fraction(2, 10)\n",
        "f2 = Fraction(20, 100)\n",
        "\n",
        "print(f1)\n",
        "print(f2)"
      ],
      "metadata": {
        "colab": {
          "base_uri": "https://localhost:8080/"
        },
        "id": "mSYQ8Dj3uN4Z",
        "outputId": "97ee8c77-cc31-4af7-a580-a8b610a73744"
      },
      "execution_count": null,
      "outputs": [
        {
          "output_type": "stream",
          "name": "stdout",
          "text": [
            "2/10\n",
            "20/100\n"
          ]
        }
      ]
    },
    {
      "cell_type": "code",
      "source": [
        "#10. Demonstrate operator overloading by creating a class Vector and overriding the add method to add two vectors.\n",
        "class Vector:\n",
        "    def __init__(self, x, y):\n",
        "        self.x = x\n",
        "        self.y = y\n",
        "\n",
        "    # Overload the + operator\n",
        "    def __add__(self, other):\n",
        "        return Vector(self.x + other.x, self.y + other.y)\n",
        "\n",
        "    # String representation for printing\n",
        "    def __str__(self):\n",
        "        return f\"({self.x}, {self.y})\"\n",
        "\n",
        "\n",
        "v1 = Vector(2, 10)\n",
        "v2 = Vector(20, 100)\n",
        "\n",
        "v3 = v1 + v2\n",
        "print(f\"v1 + v2 = {v3}\")"
      ],
      "metadata": {
        "colab": {
          "base_uri": "https://localhost:8080/"
        },
        "id": "GbL2oCv6uiY3",
        "outputId": "8047f073-8022-47c8-ffb0-f41d8f134b0a"
      },
      "execution_count": null,
      "outputs": [
        {
          "output_type": "stream",
          "name": "stdout",
          "text": [
            "v1 + v2 = (22, 110)\n"
          ]
        }
      ]
    },
    {
      "cell_type": "code",
      "source": [
        "#11. Create a class Person with attributes name and age. Add a method greet() that prints \"Hello, my name is {name} and I am {age} years old.\"\n",
        "class Person:\n",
        "  def __init__(self,name,age):\n",
        "    self.name = name\n",
        "    self.age = age\n",
        "\n",
        "  def greet(self):\n",
        "      print(f\"Hello, my name is {self.name} and I am {self.age} years old.\")\n",
        "\n",
        "p1 = Person(\"Abhilash\",26)\n",
        "p1.greet()"
      ],
      "metadata": {
        "colab": {
          "base_uri": "https://localhost:8080/"
        },
        "id": "KtlheppEuzXy",
        "outputId": "56ac9037-b5a4-4288-9e08-2f0754193657"
      },
      "execution_count": null,
      "outputs": [
        {
          "output_type": "stream",
          "name": "stdout",
          "text": [
            "Hello, my name is Abhilash and I am 26 years old.\n"
          ]
        }
      ]
    },
    {
      "cell_type": "code",
      "source": [
        "# 12.Implement a class Student with attributes name and grades. Create a method average_grade() to compute the average of the grades.\n",
        "class Student:\n",
        "  def __init__(self,name,grades):\n",
        "    self.name = name\n",
        "    self.grades = grades\n",
        "\n",
        "  def average_grade(self):\n",
        "    return sum(self.grades) / len(self.grades)\n",
        "\n",
        "  def __str__(self):\n",
        "     return f\"Student Name: {self.name}, Average Grade: {self.average_grade()}\"\n",
        "\n",
        "stud1 = Student(\"Abhilash\",[60,80,90])\n",
        "stud2 = Student(\"Ritik\",[80,85,95])\n",
        "\n",
        "print(stud1)\n",
        "print(stud2)"
      ],
      "metadata": {
        "colab": {
          "base_uri": "https://localhost:8080/"
        },
        "id": "h_JeOBu_vHS3",
        "outputId": "d5128544-2d9c-4333-f344-6b09753e616d"
      },
      "execution_count": null,
      "outputs": [
        {
          "output_type": "stream",
          "name": "stdout",
          "text": [
            "Student Name: Abhilash, Average Grade: 76.66666666666667\n",
            "Student Name: Ritik, Average Grade: 86.66666666666667\n"
          ]
        }
      ]
    },
    {
      "cell_type": "code",
      "source": [
        "# 13. Create a class Rectangle with methods set_dimensions() to set the dimensions and area() to calculate the area.\n",
        "class Rectangle:\n",
        "  def __init__(self,length,width):\n",
        "    self.length = length\n",
        "    self.width = width\n",
        "\n",
        "  def set_dimensions(self,length_val,width_val):\n",
        "    if length_val > 0 and width_val > 0:\n",
        "      self.length = length_val\n",
        "      self.width = width_val\n",
        "    else:\n",
        "      print(\"Please enter valid length & width\")\n",
        "\n",
        "  def area(self):\n",
        "    return f\"area of the reactangle having length:{self.length} & width:{self.width} = {self.length * self.width}\"\n",
        "\n",
        "r1 = Rectangle(10, 20)\n",
        "print(r1.area())\n",
        "r1.set_dimensions(22,55)\n",
        "print(r1.area())\n"
      ],
      "metadata": {
        "colab": {
          "base_uri": "https://localhost:8080/"
        },
        "id": "ne-o2velvpUq",
        "outputId": "edbd8b74-e4d7-4e33-bbfe-09304a76401d"
      },
      "execution_count": null,
      "outputs": [
        {
          "output_type": "stream",
          "name": "stdout",
          "text": [
            "area of the reactangle having length:10 & width:20 = 200\n",
            "area of the reactangle having length:22 & width:55 = 1210\n"
          ]
        }
      ]
    },
    {
      "cell_type": "code",
      "source": [
        "# 14. Create a class Employee with a method calculate_salary() that computes the salary based on hours worked and hourly rate. Create a derived class Manager that adds a bonus to the salary.\n",
        "class Employee:\n",
        "    def __init__(self, name, hours_worked, hourly_rate):\n",
        "        self.name = name\n",
        "        self.hours_worked = hours_worked\n",
        "        self.hourly_rate = hourly_rate\n",
        "\n",
        "    def calculate_salary(self):\n",
        "        return self.hours_worked * self.hourly_rate\n",
        "\n",
        "\n",
        "class Manager(Employee):\n",
        "    def __init__(self, name, hours_worked, hourly_rate, bonus):\n",
        "        super().__init__(name, hours_worked, hourly_rate)\n",
        "        self.bonus = bonus\n",
        "\n",
        "    def calculate_salary(self):\n",
        "        base_salary = super().calculate_salary()\n",
        "        return base_salary + self.bonus\n",
        "\n",
        "\n",
        "e1 = Employee(\"Abhilash\", 30, 25)\n",
        "m1 = Manager(\"Debasis\", 44, 40, 400)\n",
        "\n",
        "print(f\"{e1.name}'s Salary: ${e1.calculate_salary()}\")\n",
        "print(f\"{m1.name}'s Salary (with bonus): ${m1.calculate_salary()}\")"
      ],
      "metadata": {
        "colab": {
          "base_uri": "https://localhost:8080/"
        },
        "id": "agAlpoRHwBQl",
        "outputId": "c93f645f-902a-48a9-a7d7-0b88c15149ee"
      },
      "execution_count": null,
      "outputs": [
        {
          "output_type": "stream",
          "name": "stdout",
          "text": [
            "Abhilash's Salary: $750\n",
            "Debasis's Salary (with bonus): $2160\n"
          ]
        }
      ]
    },
    {
      "cell_type": "code",
      "source": [
        "# 15.  Create a class Product with attributes name, price, and quantity. Implement a method total_price() that calculates the total price of the product.\n",
        "class Product:\n",
        "  def __init__(self,name,price,quantity):\n",
        "    self.name = name\n",
        "    self.price = price\n",
        "    self.quantity = quantity\n",
        "\n",
        "  def total_price(self):\n",
        "    return self.price * self.quantity\n",
        "\n",
        "  def __str__(self):\n",
        "    return f\"Total price of {self.name} with quantity:{self.quantity} = {self.total_price()}\"\n",
        "\n",
        "\n",
        "product1 = Product(\"PS-5\",50900,150)\n",
        "print(product1)"
      ],
      "metadata": {
        "colab": {
          "base_uri": "https://localhost:8080/"
        },
        "id": "G5wr0I6zwkiI",
        "outputId": "9a67cd6b-06d0-4df8-ba7e-80d5836ec523"
      },
      "execution_count": null,
      "outputs": [
        {
          "output_type": "stream",
          "name": "stdout",
          "text": [
            "Total price of PS-5 with quantity:150 = 7635000\n"
          ]
        }
      ]
    },
    {
      "cell_type": "code",
      "source": [
        "# 16.Create a class Animal with an abstract method sound(). Create two derived classes Cow and Sheep that implement the sound() method.\n",
        "\n",
        "from abc import ABC, abstractmethod\n",
        "\n",
        "\n",
        "class Animal(ABC):\n",
        "    @abstractmethod\n",
        "    def sound(self):\n",
        "        pass\n",
        "\n",
        "\n",
        "class Cow(Animal):\n",
        "    def sound(self):\n",
        "        return \"🐮Cow Sound : Moo\"\n",
        "\n",
        "\n",
        "class Sheep(Animal):\n",
        "    def sound(self):\n",
        "        return \"🐏Sheep Sound : Mainnn\"\n",
        "\n",
        "# Usage\n",
        "animals = [Cow(), Sheep()]\n",
        "\n",
        "for animal in animals:\n",
        "    print(f\"{animal.__class__.__name__} makes sound: {animal.sound()}\")"
      ],
      "metadata": {
        "colab": {
          "base_uri": "https://localhost:8080/"
        },
        "id": "uM8iwMHfxEW1",
        "outputId": "b3c386c6-83fe-46ce-dc59-2bed38063936"
      },
      "execution_count": null,
      "outputs": [
        {
          "output_type": "stream",
          "name": "stdout",
          "text": [
            "Cow makes sound: 🐮Cow Sound : Moo\n",
            "Sheep makes sound: 🐏Sheep Sound : Mainnn\n"
          ]
        }
      ]
    },
    {
      "cell_type": "code",
      "source": [
        "# 17.Create a class Book with attributes title, author, and year_published. Add a method get_book_info() that returns a formatted string with the book's details.\n",
        "class Book:\n",
        "    def __init__(self, title, author, year_published):\n",
        "        self.title = title\n",
        "        self.author = author\n",
        "        self.year_published = year_published\n",
        "\n",
        "    def get_book_info(self):\n",
        "        return f\"'{self.title}' by {self.author} (Published in {self.year_published})\"\n",
        "\n",
        "\n",
        "book1 = Book(\"ANTHROPOLOGY\", \"HAVILAND\", 1980)\n",
        "book2 = Book(\"RICH DAD POOR DAD\", \"ROBERT T. KIYOSAKI\", 1997)\n",
        "\n",
        "print(book1.get_book_info())\n",
        "print(book2.get_book_info())"
      ],
      "metadata": {
        "colab": {
          "base_uri": "https://localhost:8080/"
        },
        "id": "qXsRKSqVxVxE",
        "outputId": "00283a48-21b8-4bae-cb93-78f26653faf8"
      },
      "execution_count": null,
      "outputs": [
        {
          "output_type": "stream",
          "name": "stdout",
          "text": [
            "'ANTHROPOLOGY' by HAVILAND (Published in 1980)\n",
            "'RICH DAD POOR DAD' by ROBERT T. KIYOSAKI (Published in 1997)\n"
          ]
        }
      ]
    },
    {
      "cell_type": "code",
      "source": [
        "# 18.Create a class House with attributes address and price. Create a derived class Mansion that adds an attribute number_of_rooms.\n",
        "class House:\n",
        "    def __init__(self, address, price):\n",
        "        self.address = address\n",
        "        self.price = price\n",
        "\n",
        "    def get_info(self):\n",
        "        return f\"Address: {self.address}, Price: ${self.price}\"\n",
        "\n",
        "\n",
        "class Mansion(House):\n",
        "    def __init__(self, address, price, number_of_rooms):\n",
        "        super().__init__(address, price)\n",
        "        self.number_of_rooms = number_of_rooms\n",
        "\n",
        "    def get_info(self):\n",
        "        return f\"{super().get_info()}, Number of Rooms: {self.number_of_rooms}\"\n",
        "\n",
        "\n",
        "h1 = House(\"Ashok & Binapani Nivas \", 500000)\n",
        "m1 = Mansion(\"The Emperio\", 150000000, 18)\n",
        "\n",
        "print(h1.get_info())\n",
        "print(m1.get_info())"
      ],
      "metadata": {
        "colab": {
          "base_uri": "https://localhost:8080/"
        },
        "id": "ExzdaEUeyHn6",
        "outputId": "bb6c51e6-e399-4507-b509-c251b1f398e7"
      },
      "execution_count": null,
      "outputs": [
        {
          "output_type": "stream",
          "name": "stdout",
          "text": [
            "Address: Ashok & Binapani Nivas , Price: $500000\n",
            "Address: The Emperio, Price: $150000000, Number of Rooms: 18\n"
          ]
        }
      ]
    },
    {
      "cell_type": "code",
      "source": [],
      "metadata": {
        "id": "KpGwpB5fzDCo"
      },
      "execution_count": null,
      "outputs": []
    }
  ]
}