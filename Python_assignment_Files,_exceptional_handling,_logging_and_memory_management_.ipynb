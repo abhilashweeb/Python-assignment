{
  "nbformat": 4,
  "nbformat_minor": 0,
  "metadata": {
    "colab": {
      "provenance": []
    },
    "kernelspec": {
      "name": "python3",
      "display_name": "Python 3"
    },
    "language_info": {
      "name": "python"
    }
  },
  "cells": [
    {
      "cell_type": "code",
      "execution_count": null,
      "metadata": {
        "id": "atkmkGiJw4du"
      },
      "outputs": [],
      "source": []
    },
    {
      "cell_type": "markdown",
      "source": [
        "#Theoritical Questions:"
      ],
      "metadata": {
        "id": "-EyhdVQeyr8e"
      }
    },
    {
      "cell_type": "markdown",
      "source": [
        "1. What is the difference between interpreted and compiled languages?\n",
        "* Interpreted: Interpreted languages run the code line by line using an interpreter, so they are usually slower but easier to debug (like Python).\n",
        "* Compiled: Compiled languages are translated into machine code by a compiler before running, making them faster (like C or Java).\n",
        "* Basically, interpreters run the code directly, while compilers convert it first then execute the code.\n",
        "\n",
        "\n",
        "\n",
        "2. What is exception handling in Python?\n",
        "* Exception handling in Python is a way to manage errors that occur during program execution.\n",
        "* It uses try, except, finally, and else blocks to catch and handle exceptions gracefully. This helps prevent the program from crashing unexpectedly.\n",
        "\n",
        "\n",
        "\n",
        "3. What is the purpose of the finally block in exception handling?\n",
        "* The finally block is used to define the code that should run no matter what, whether an exception occurs or not. It's often used for cleanup actions like closing files or releasing resources. This ensures that important final steps always happen.\n",
        "\n",
        "\n",
        "4. What is logging in Python?\n",
        "* Logging in Python is a way to record messages about a program’s execution, like errors, warnings, or info. It helps with debugging and monitoring by keeping a log of events.\n",
        "* We use Python’s built-in logging module to set it up and manage log levels like DEBUG, INFO, WARNING, etc.\n",
        "\n",
        "\n",
        "5. What is the significance of the --del-- method in Python?\n",
        "* The del method in Python is a destructor that's called when an object is about to be deleted.\n",
        "* We use it to clean up resources like closing files or network connections. It runs automatically, but relying too much on it is not recommended due to Python’s garbage collection.\n",
        "\n",
        "\n",
        "6. What is the difference between import and from... import in Python?\n",
        "* import brings in the whole module, so we access functions or classes using the module name (like math.sqrt).\n",
        "* from ... import lets us import specific parts directly, so we can use them without the module prefix (like sqrt).\n",
        "\n",
        "\n",
        "7. How can you handle multiple exceptions in Python?\n",
        "* We can handle multiple exceptions by using multiple except blocks for different error types.\n",
        "* Alternatively, we can group exceptions in a single except block using parentheses. This way, we can manage different errors cleanly without crashing the program.\n",
        "\n",
        "\n",
        "8. What is the purpose of the with statement when handling files in Python?\n",
        "* The with statement is used to open files in Python safely and cleanly. It automatically handles closing the file after the block is executed, even if an error occurs.\n",
        "* We use it to avoid manual close() calls.\n",
        "\n",
        "\n",
        "9. What is the difference between multithreading and multiprocessing?\n",
        "* Multithreading: Multithreading runs multiple threads within the same process, sharing memory space great for I/O bound tasks.\n",
        "* Multiprocessing: Multiprocessing runs separate processes with their own memory better for CPU bound tasks.\n",
        "* We use multithreading for lightweight tasks and multiprocessing for heavy computations.\n",
        "\n",
        "\n",
        "10. What are the advantages of using logging in a program?\n",
        "* Logging helps us track the flow of a program and catch issues without using print statements.\n",
        "* It allows different log levels like DEBUG, INFO, WARNING, ERROR, and CRITICAL. We can also save logs to files for later analysis, which is useful in real-time applications.\n",
        "\n",
        "\n",
        "11. What is memory management in Python?\n",
        "* Memory management in Python involves allocating and freeing up memory automatically using garbage collection.\n",
        "* We don’t have to manually manage memory because Python tracks objects and cleans up unused ones.\n",
        "* This helps prevent memory leaks and makes programming easier.\n",
        "\n",
        "\n",
        "12. What are the basic steps involved in exception handling in Python?\n",
        "* The basic steps in exception handling are: 1. Use a try block to wrap suspicious code that might cause an error. 2. Add one or more except blocks to catch and handle specific exceptions. 3. Optionally use else to run code if no exceptions occur, and finally for cleanup actions.\n",
        "\n",
        "\n",
        "13. Why is memory management important in Python?\n",
        "* Memory management is important because it helps keep our program efficient by freeing up unused memory automatically.\n",
        "* Without it, programs could slow down or crash due to memory leaks.\n",
        "* Python’s management lets us focus on writing code instead of handling memory manually.\n",
        "\n",
        "\n",
        "14. What is the role of try and except in exception handling?\n",
        "* The try block contains the code that might raise an exception.\n",
        "* The except block catches and handles the error if one occurs, preventing the program from crashing.\n",
        "* Together, they help us manage errors gracefully and keep the program running smoothly.\n",
        "\n",
        "\n",
        "15.  How does Python's garbage collection system work?\n",
        "* Python’s garbage collection automatically frees memory by tracking object references. When an object’s reference count drops to zero, it’s immediately cleaned up. Additionally, Python has a cyclic garbage collector to detect and remove reference cycles that simple counting can’t handle.\n",
        "\n",
        "\n",
        "16. What is the purpose of the else block in exception handling?\n",
        "* The else block runs only if no exceptions were raised in the try block. We use it to execute code that should happen when everything goes smoothly, keeping error handling separate.\n",
        "\n",
        "\n",
        "17. What are the common logging levels in Python?\n",
        "* The common logging levels in Python are:\n",
        "      * DEBUG: Detailed information for diagnosing problems.\n",
        "      * INFO: General events or confirmations.\n",
        "      * WARNING: Something unexpected but not critical.\n",
        "      * ERROR: Serious problems that affect functionality.\n",
        "      * CRITICAL: Very severe errors causing program failure.\n",
        "\n",
        "\n",
        "\n",
        "18. What is the difference between os.fork() and multiprocessing in Python?\n",
        "* os.fork() creates a new child process by duplicating the current process, mainly on Unix systems.\n",
        "* multiprocessing is a higher-level module that works across platforms and offers more control like process pools and communication.\n",
        "* We use multiprocessing for easier, safer parallelism compared to low-level fork().\n",
        "\n",
        "\n",
        "19. What is the importance of closing a file in Python?\n",
        "* Closing a file is important because it frees up system resources and ensures all data is properly saved.\n",
        "* If we don’t close files, it can lead to memory leaks or data corruption. Using with helps handle this automatically, so we don’t forget to close.\n",
        "\n",
        "\n",
        "20. What is the difference between file.read() and file.readline() in Python?\n",
        "* file.read() reads the entire content of the file as a single string.\n",
        "* file.readline() reads the file one line at a time, returning a single line with each call.\n",
        "* We use read() for full content and readline() when processing line by line.\n",
        "\n",
        "\n",
        "21. What is the logging module in Python used for?\n",
        "* The logging module in Python is used to record messages about program events and errors.\n",
        "* We use it to track the flow, debug issues, and keep logs for monitoring. It supports different log levels and outputs, making debugging and maintenance easier.\n",
        "\n",
        "\n",
        "22. What is the os module in Python used for in file handling?\n",
        "* The os module helps us interact with the operating system, especially for file and directory operations.\n",
        "* We use it to create, delete, rename, or check files and folders, and to navigate file paths.\n",
        "* It gives us more control beyond basic file reading and writing.\n",
        "\n",
        "\n",
        "23. What are the challenges associated with memory management in Python?\n",
        "*Memory management challenges in Python include handling reference cycles that can cause memory leaks.\n",
        "* Also, the automatic garbage collector may introduce performance overhead.\n",
        "* We need to be careful with large objects or data structures to avoid excessive memory use.\n",
        "\n",
        "\n",
        "24. How do you raise an exception manually in Python?\n",
        "* We manually raise an exception in Python using the raise keyword followed by an exception type.\n",
        "* For example, raise ValueError(\"Invalid input\") will stop the program and signal that error.\n",
        "\n",
        "\n",
        "25. Why is it important to use multithreading in certain applications?\n",
        "* Multithreading is important because it lets us run multiple tasks at the same time within a single program, improving responsiveness.\n",
        "* It’s especially useful for I/O-bound tasks like web requests or reading files where waiting happens.\n",
        "* This way, our program stays efficient without blocking other operations."
      ],
      "metadata": {
        "id": "afGc5_x9zLYO"
      }
    },
    {
      "cell_type": "markdown",
      "source": [
        "#Practical Questions:"
      ],
      "metadata": {
        "id": "yQhkgEtv6XIm"
      }
    },
    {
      "cell_type": "code",
      "source": [
        "#1. How can you open a file for writing in Python and write a string to it?\n",
        "with open(\"example.txt\", \"w\") as file:\n",
        "  file.write(\"Hello Everyone, Welcome to pwskills. A place to elevate your carrer in Tech Field...\")"
      ],
      "metadata": {
        "id": "HVm17nk9zlpR"
      },
      "execution_count": null,
      "outputs": []
    },
    {
      "cell_type": "code",
      "source": [
        "#2. Write a Python program to read the contents of a file and print each line.\n",
        "with open(\"example.txt\", 'r') as file:\n",
        "  for line in file:\n",
        "    print(line)"
      ],
      "metadata": {
        "colab": {
          "base_uri": "https://localhost:8080/"
        },
        "id": "FmyXFHNi7O5H",
        "outputId": "d8c7d6e3-cfef-465d-eb3e-922b31944944"
      },
      "execution_count": null,
      "outputs": [
        {
          "output_type": "stream",
          "name": "stdout",
          "text": [
            "Hello Everyone, Welcome to pwskills. A place to elevate your carrer in Tech Field...\n"
          ]
        }
      ]
    },
    {
      "cell_type": "code",
      "source": [
        "#3. How would you handle a case where the file doesn't exist while trying to open it for reading?\n",
        "try:\n",
        "  with open(\"test.txt\",'r') as file:\n",
        "    for line in file:\n",
        "      print(line)\n",
        "except FileNotFoundError as e:\n",
        "  print(\"Requested file not found...\",e)"
      ],
      "metadata": {
        "colab": {
          "base_uri": "https://localhost:8080/"
        },
        "id": "x96E5fCs7S2G",
        "outputId": "964f023c-3548-42b6-88c5-7674a3dd273b"
      },
      "execution_count": null,
      "outputs": [
        {
          "output_type": "stream",
          "name": "stdout",
          "text": [
            "Requested file not found... [Errno 2] No such file or directory: 'test.txt'\n"
          ]
        }
      ]
    },
    {
      "cell_type": "code",
      "source": [
        "#4. Write a Python script that reads from one file and writes its content to another file.\n",
        "with open(\"example.txt\",'r') as file1:\n",
        "  with open(\"test.txt\",'w') as file2:\n",
        "    for line in file1:\n",
        "      file2.write(line)"
      ],
      "metadata": {
        "id": "PuMSIIvM7pMb"
      },
      "execution_count": null,
      "outputs": []
    },
    {
      "cell_type": "code",
      "source": [
        "#5. How would you catch and handle division by zero error in Python.\n",
        "try:\n",
        "  10/0\n",
        "except ZeroDivisionError as e:\n",
        "  print(\"Error:\",e)"
      ],
      "metadata": {
        "colab": {
          "base_uri": "https://localhost:8080/"
        },
        "id": "6M8bzv5V7y04",
        "outputId": "c047dbcc-bafd-424b-b161-c8a035bf5f3d"
      },
      "execution_count": null,
      "outputs": [
        {
          "output_type": "stream",
          "name": "stdout",
          "text": [
            "Error: division by zero\n"
          ]
        }
      ]
    },
    {
      "cell_type": "code",
      "source": [
        "#6. Write a Python program that logs an error message to a log file when a division by zero exception occurs.\n",
        "import logging\n",
        "logging.basicConfig(filename = \"error.log\", level=logging.ERROR)\n",
        "\n",
        "try:\n",
        "  10/0\n",
        "except ZeroDivisionError as e:\n",
        "  logging.error(\"Error: Division by zero\")"
      ],
      "metadata": {
        "colab": {
          "base_uri": "https://localhost:8080/"
        },
        "id": "JttiSCf874yf",
        "outputId": "60c2cdc4-d596-4f55-878d-2b48dd7fff86"
      },
      "execution_count": null,
      "outputs": [
        {
          "output_type": "stream",
          "name": "stderr",
          "text": [
            "ERROR:root:Error: Division by zero\n"
          ]
        }
      ]
    },
    {
      "cell_type": "code",
      "source": [
        "#7. How do you log information at different levels (INFO, ERROR, WARNING) in Python using the logging module\n",
        "import logging\n",
        "\n",
        "logging.basicConfig(filename=\"error.log\", level=logging.DEBUG, format='%(levelname)s:%(message)s')\n",
        "\n",
        "logging.info(\"This is an info message\")\n",
        "logging.warning(\"This is a warning message\")\n",
        "logging.error(\"This is an error message\")"
      ],
      "metadata": {
        "colab": {
          "base_uri": "https://localhost:8080/"
        },
        "id": "nncK-c_g8CnK",
        "outputId": "0f2885b1-db74-4b36-d65e-156b5bc8b573"
      },
      "execution_count": null,
      "outputs": [
        {
          "output_type": "stream",
          "name": "stderr",
          "text": [
            "WARNING:root:This is a warning message\n",
            "ERROR:root:This is an error message\n"
          ]
        }
      ]
    },
    {
      "cell_type": "code",
      "source": [
        "#8. Write a program to handle a file opening error using exception handling\n",
        "try:\n",
        "    with open('sample1.txt', 'r') as file:\n",
        "        data = file.read()\n",
        "        print(data)\n",
        "except FileNotFoundError as e:\n",
        "    print(\"Error: The file does not exist.\",e)"
      ],
      "metadata": {
        "colab": {
          "base_uri": "https://localhost:8080/"
        },
        "id": "E1q_Dnfg8JtS",
        "outputId": "da4d35d6-37e0-4ebb-ac29-5f46eb768d93"
      },
      "execution_count": null,
      "outputs": [
        {
          "output_type": "stream",
          "name": "stdout",
          "text": [
            "Error: The file does not exist. [Errno 2] No such file or directory: 'sample1.txt'\n"
          ]
        }
      ]
    },
    {
      "cell_type": "code",
      "source": [
        "#9. How can you read a file line by line and store its content in a list in Python.\n",
        "lines = []\n",
        "with open('example.txt', 'r') as file:\n",
        "    for line in file:\n",
        "        lines.append(line.strip())\n",
        "\n",
        "print(lines)"
      ],
      "metadata": {
        "colab": {
          "base_uri": "https://localhost:8080/"
        },
        "id": "P6ZnTOFD8SZy",
        "outputId": "05f3c075-cc29-4ae5-8bc1-a4d7c83f4d33"
      },
      "execution_count": null,
      "outputs": [
        {
          "output_type": "stream",
          "name": "stdout",
          "text": [
            "['Hello Everyone, Welcome to pwskills. A place to elevate your carrer in Tech Field...']\n"
          ]
        }
      ]
    },
    {
      "cell_type": "code",
      "source": [
        "#10. How can you append data to an existing file in Python?\n",
        "with open(\"example.txt\", \"a\") as file:\n",
        "  file.write(\"\\n Data Analytics Course from pwskills\")"
      ],
      "metadata": {
        "id": "9epIIZOE8fdw"
      },
      "execution_count": null,
      "outputs": []
    },
    {
      "cell_type": "code",
      "source": [
        "#11.  Write a Python program that uses a try-except block to handle an error when attempting to access a dictionary key that doesn't exist\n",
        "\n",
        "user = {\"name\":\"Abhilash\",\"email\":\"abhilashlenka9658@gmail.com\"}\n",
        "\n",
        "try:\n",
        "  user[\"age\"]\n",
        "except KeyError as e:\n",
        "  print(f\"Requested key is not available: {e}\")"
      ],
      "metadata": {
        "colab": {
          "base_uri": "https://localhost:8080/"
        },
        "id": "--KUSYXQ8_EA",
        "outputId": "dda2208a-5091-4aa9-cbe5-054788fa9b2b"
      },
      "execution_count": null,
      "outputs": [
        {
          "output_type": "stream",
          "name": "stdout",
          "text": [
            "Requested key is not available: 'age'\n"
          ]
        }
      ]
    },
    {
      "cell_type": "code",
      "source": [
        "#12. Write a program that demonstrates using multiple except blocks to handle different types of exceptions.\n",
        "try:\n",
        "    num = int(input(\"Enter a number: \"))\n",
        "    result = 10 / num\n",
        "    print(\"Result is\", result)\n",
        "except ValueError as e:\n",
        "    print(\"Error: That’s not a valid number.\",e)\n",
        "except ZeroDivisionError as e:\n",
        "    print(\"Error: Cannot divide by zero.\",e)"
      ],
      "metadata": {
        "colab": {
          "base_uri": "https://localhost:8080/"
        },
        "id": "_jLRLEBh9EQR",
        "outputId": "99a46bc6-39de-49de-8370-fa148d9c8dc9"
      },
      "execution_count": null,
      "outputs": [
        {
          "output_type": "stream",
          "name": "stdout",
          "text": [
            "Enter a number: 2\n",
            "Result is 5.0\n"
          ]
        }
      ]
    },
    {
      "cell_type": "code",
      "source": [
        "#13. How would you check if a file exists before attempting to read it in Python?\n",
        "import os\n",
        "\n",
        "if os.path.exists('file.txt'):\n",
        "    with open('file.txt', 'r') as file:\n",
        "        print(file.read())\n",
        "else:\n",
        "    print(\"File does not exist.\")"
      ],
      "metadata": {
        "colab": {
          "base_uri": "https://localhost:8080/"
        },
        "id": "x7qHO1OK9hKd",
        "outputId": "527fc487-f527-4e1c-c4eb-a88264fe88ce"
      },
      "execution_count": null,
      "outputs": [
        {
          "output_type": "stream",
          "name": "stdout",
          "text": [
            "File does not exist.\n"
          ]
        }
      ]
    },
    {
      "cell_type": "code",
      "source": [
        "#14. Write a program that uses the logging module to log both informational and error messages.\n",
        "import logging\n",
        "\n",
        "logging.basicConfig(level=logging.DEBUG, format='%(levelname)s: %(message)s')\n",
        "\n",
        "logging.info(\"Program started successfully.\")\n",
        "\n",
        "try:\n",
        "    x = 10 / 0\n",
        "except ZeroDivisionError:\n",
        "    logging.error(\"Error: Division by zero occurred.\")\n",
        "finally:\n",
        "    logging.info(\"Program ended.\")"
      ],
      "metadata": {
        "colab": {
          "base_uri": "https://localhost:8080/"
        },
        "id": "vaoe5L3E92sV",
        "outputId": "e404a1a7-cec3-4073-ef3d-29577ce47fc6"
      },
      "execution_count": null,
      "outputs": [
        {
          "output_type": "stream",
          "name": "stderr",
          "text": [
            "ERROR:root:Error: Division by zero occurred.\n"
          ]
        }
      ]
    },
    {
      "cell_type": "code",
      "source": [
        "# 15. Write a Python program that prints the content of a file and handles the case when the file is empty.\n",
        "try:\n",
        "    with open('sample.txt', 'r') as file:\n",
        "        content = file.read()\n",
        "        if content:\n",
        "            print(content)\n",
        "        else:\n",
        "            print(\"The file is empty.\")\n",
        "except FileNotFoundError:\n",
        "    print(\"Error: File not found.\")"
      ],
      "metadata": {
        "colab": {
          "base_uri": "https://localhost:8080/"
        },
        "id": "YBLAHeWx-HKu",
        "outputId": "0f1f84ef-69c1-4327-89d3-1b2e5a6158d2"
      },
      "execution_count": null,
      "outputs": [
        {
          "output_type": "stream",
          "name": "stdout",
          "text": [
            "Error: File not found.\n"
          ]
        }
      ]
    },
    {
      "cell_type": "code",
      "source": [
        "pip install memory-profiler"
      ],
      "metadata": {
        "colab": {
          "base_uri": "https://localhost:8080/"
        },
        "id": "SObG35Zf-hLW",
        "outputId": "76b8bc6e-c6a8-43fc-d25f-c2b3d6af0335"
      },
      "execution_count": null,
      "outputs": [
        {
          "output_type": "stream",
          "name": "stdout",
          "text": [
            "Requirement already satisfied: memory-profiler in /usr/local/lib/python3.11/dist-packages (0.61.0)\n",
            "Requirement already satisfied: psutil in /usr/local/lib/python3.11/dist-packages (from memory-profiler) (5.9.5)\n"
          ]
        }
      ]
    },
    {
      "cell_type": "code",
      "source": [
        "#16. Demonstrate how to use memory profiling to check the memory usage of a small program.\n",
        "from memory_profiler import profile\n",
        "\n",
        "@profile\n",
        "def my_func():\n",
        "    a = [i for i in range(100000)]\n",
        "    return a\n",
        "\n",
        "if __name__ == \"__main__\":\n",
        "    my_func()"
      ],
      "metadata": {
        "colab": {
          "base_uri": "https://localhost:8080/"
        },
        "id": "iZnQkRI2-moK",
        "outputId": "f4e3901d-9356-42b9-f89e-29b9dc7dbf1c"
      },
      "execution_count": null,
      "outputs": [
        {
          "output_type": "stream",
          "name": "stdout",
          "text": [
            "ERROR: Could not find file <ipython-input-28-d16a25417d23>\n",
            "NOTE: %mprun can only be used on functions defined in physical files, and not in the IPython environment.\n"
          ]
        }
      ]
    },
    {
      "cell_type": "code",
      "source": [
        "#17. Write a Python program to create and write a list of numbers to a file, one number per line.\n",
        "numbers = [1, 2, 3, 4, 5]\n",
        "\n",
        "with open('numbers.txt', 'w') as file:\n",
        "    for num in numbers:\n",
        "        file.write(str(num) + '\\n')"
      ],
      "metadata": {
        "id": "kFCGZhoG-6U0"
      },
      "execution_count": null,
      "outputs": []
    },
    {
      "cell_type": "code",
      "source": [
        "# 18. How would you implement a basic logging setup that logs to a file with rotation after 1MB.\n",
        "import logging\n",
        "from logging.handlers import RotatingFileHandler\n",
        "\n",
        "logger = logging.getLogger('my_logger')\n",
        "logger.setLevel(logging.DEBUG)\n",
        "\n",
        "handler = RotatingFileHandler('app.log', maxBytes=1_000_000, backupCount=3)\n",
        "formatter = logging.Formatter('%(asctime)s - %(levelname)s - %(message)s')\n",
        "handler.setFormatter(formatter)\n",
        "\n",
        "logger.addHandler(handler)\n",
        "\n",
        "logger.info(\"This is an info message.\")\n",
        "logger.error(\"This is an error message.\")"
      ],
      "metadata": {
        "colab": {
          "base_uri": "https://localhost:8080/"
        },
        "id": "O3nrbEqO_Mzt",
        "outputId": "0afece54-2785-4de4-8d40-5753540aa3e1"
      },
      "execution_count": null,
      "outputs": [
        {
          "output_type": "stream",
          "name": "stderr",
          "text": [
            "INFO:my_logger:This is an info message.\n",
            "ERROR:my_logger:This is an error message.\n"
          ]
        }
      ]
    },
    {
      "cell_type": "code",
      "source": [
        "# 19. Write a program that handles both IndexError and KeyError using a try-except block.\n",
        "try:\n",
        "    my_list = [1, 2, 3]\n",
        "    my_dict = {'a': 10, 'b': 20}\n",
        "\n",
        "    print(my_list[5])\n",
        "    print(my_dict['z'])\n",
        "\n",
        "except IndexError as e:\n",
        "    print(\"Error: \",e)\n",
        "\n",
        "except KeyError as e:\n",
        "    print(\"Error: \",e)"
      ],
      "metadata": {
        "colab": {
          "base_uri": "https://localhost:8080/"
        },
        "id": "GwLHzcCt_fzo",
        "outputId": "933a70ff-2c6a-457f-acda-380ad16dae18"
      },
      "execution_count": null,
      "outputs": [
        {
          "output_type": "stream",
          "name": "stdout",
          "text": [
            "Error:  list index out of range\n"
          ]
        }
      ]
    },
    {
      "cell_type": "code",
      "source": [
        "#20. How would you open a file and read its contents using a context manager in Python?\n",
        "with open('example.txt', 'r') as file:\n",
        "    content = file.read()\n",
        "    print(content)"
      ],
      "metadata": {
        "colab": {
          "base_uri": "https://localhost:8080/"
        },
        "id": "nR_0p_m-_oRa",
        "outputId": "03bee296-ff5b-40e0-fb42-373006daa9e0"
      },
      "execution_count": null,
      "outputs": [
        {
          "output_type": "stream",
          "name": "stdout",
          "text": [
            "Hello Everyone, Welcome to pwskills. A place to elevate your carrer in Tech Field...\n",
            " Data Analytics Course from pwskills\n"
          ]
        }
      ]
    },
    {
      "cell_type": "code",
      "source": [
        "#21. Write a Python program that reads a file and prints the number of occurrences of a specific word.\n",
        "word_to_count = \"pwskills\"\n",
        "count = 0\n",
        "\n",
        "try:\n",
        "    with open('example.txt', 'r') as file:\n",
        "        for line in file:\n",
        "            words = line.lower().split()\n",
        "            count += words.count(word_to_count.lower())\n",
        "    print(f\"The word '{word_to_count}' occurs {count} times.\")\n",
        "except FileNotFoundError:\n",
        "    print(\"Error: File not found.\")"
      ],
      "metadata": {
        "colab": {
          "base_uri": "https://localhost:8080/"
        },
        "id": "VlD1gU2N_vBT",
        "outputId": "47973bb3-7d2d-473b-bfd8-cc5f08555d82"
      },
      "execution_count": null,
      "outputs": [
        {
          "output_type": "stream",
          "name": "stdout",
          "text": [
            "The word 'pwskills' occurs 1 times.\n"
          ]
        }
      ]
    },
    {
      "cell_type": "code",
      "source": [
        "#22. How can you check if a file is empty before attempting to read its contents.\n",
        "import os\n",
        "\n",
        "filename = 'sample.txt'\n",
        "if os.path.exists(filename) and os.path.getsize(filename) > 0:\n",
        "    with open(filename, 'r') as file:\n",
        "        print(file.read())\n",
        "else:\n",
        "    print(\"File is empty or does not exist.\")"
      ],
      "metadata": {
        "colab": {
          "base_uri": "https://localhost:8080/"
        },
        "id": "D9A_o4xs_3cg",
        "outputId": "e010116c-e20e-47a2-aa04-40f5b7941a05"
      },
      "execution_count": null,
      "outputs": [
        {
          "output_type": "stream",
          "name": "stdout",
          "text": [
            "File is empty or does not exist.\n"
          ]
        }
      ]
    },
    {
      "cell_type": "code",
      "source": [
        "#23. Write a Python program that writes to a log file when an error occurs during file handling\n",
        "import logging\n",
        "\n",
        "logging.basicConfig(filename='error.log', level=logging.ERROR,\n",
        "                    format='%(asctime)s - %(levelname)s - %(message)s')\n",
        "\n",
        "try:\n",
        "    with open('data.txt', 'r') as file:\n",
        "        content = file.read()\n",
        "        print(content)\n",
        "except Exception as e:\n",
        "    logging.error(f\"An error occurred: {e}\")\n",
        "    print(\"An error happened. Check error.log for details.\")"
      ],
      "metadata": {
        "colab": {
          "base_uri": "https://localhost:8080/"
        },
        "id": "D1ttLbiJADo4",
        "outputId": "b424b6ad-3aff-410a-b3ca-140bca962b8c"
      },
      "execution_count": null,
      "outputs": [
        {
          "output_type": "stream",
          "name": "stderr",
          "text": [
            "ERROR:root:An error occurred: [Errno 2] No such file or directory: 'data.txt'\n"
          ]
        },
        {
          "output_type": "stream",
          "name": "stdout",
          "text": [
            "An error happened. Check error.log for details.\n"
          ]
        }
      ]
    },
    {
      "cell_type": "code",
      "source": [],
      "metadata": {
        "id": "1x0E60RpAJfN"
      },
      "execution_count": null,
      "outputs": []
    }
  ]
}